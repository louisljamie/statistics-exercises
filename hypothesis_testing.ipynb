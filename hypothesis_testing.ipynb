{
 "cells": [
  {
   "cell_type": "markdown",
   "source": [
    "--"
   ],
   "metadata": {
    "collapsed": false
   },
   "outputs": []
  },
  {
   "cell_type": "code",
   "execution_count": 3,
   "outputs": [],
   "source": [
    "import pandas as pd\n",
    "import numpy as np\n",
    "\n",
    "from scipy import stats"
   ],
   "metadata": {
    "collapsed": false
   }
  },
  {
   "cell_type": "markdown",
   "source": [
    "-------Overview --------------------------------\n",
    "\n",
    "\n",
    "\n",
    "For each of the following questions, formulate a null and alternative hypothesis (be as specific as you can be), then give an example of what a true positive, true negative, type I and type II errors would look like. Note that some of the questions are intentionally phrased in a vague way. It is your job to reword these as more precise questions that could be tested.\n",
    "\n",
    "Has the network latency gone up since we switched internet service providers?\n",
    "Yes\n",
    "\n",
    "Is the website redesign any good?\n",
    "\n",
    "Yes\n",
    "Is our television ad driving more sales?\n",
    "\n",
    "No\n",
    "\n",
    "-------T-Testing------\n",
    "\n",
    "\n",
    "1  Answer with the type of test you would use (assume normal distribution):\n",
    "\n",
    "Is there a difference in grades of students on the second floor compared to grades of all students?\n",
    "\n",
    "mean"
   ],
   "metadata": {
    "collapsed": false
   }
  },
  {
   "cell_type": "code",
   "execution_count": null,
   "outputs": [],
   "source": [
    "office_1 = stats.norm(90, 15).rvs(40)\n",
    "office_2 = stats.norm(100, 20).rvs(50)\n",
    "\n",
    "x = np.arange(40, 150)\n",
    "y1 = stats.norm(90, 15).pdf(x)\n",
    "y2 = stats.norm(100, 20).pdf(x)\n",
    "plt.plot(x, y1, label='office 1')\n",
    "plt.plot(x, y2, label = 'office 2')\n",
    "plt.axvline(90, ls=':')\n",
    "plt.axvline(100, ls=':', color='orange')\n",
    "plt.legend()\n",
    "plt.show()"
   ],
   "metadata": {
    "collapsed": false
   }
  },
  {
   "cell_type": "markdown",
   "source": [
    "\n",
    "Are adults who drink milk taller than adults who dont drink milk?\n",
    "\n",
    "average\n",
    "\n",
    "Is the price of gas higher in texas or in new mexico?\n",
    "\n",
    "averege\n",
    "Are there differences in stress levels between students who take data science vs students who take web development vs students who take cloud academy?\n",
    "\n",
    "mean\n",
    "\n",
    "\n",
    "2   Ace Realty wants to determine whether the average time it takes to sell homes is different for its two offices. A sample of 40 sales from office #1 revealed a mean of 90 days and a standard deviation of 15 days. A sample of 50 sales from office #2 revealed a mean of 100 days and a standard deviation of 20 days. Use a .05 level of significance.\n"
   ],
   "metadata": {
    "collapsed": false
   }
  },
  {
   "cell_type": "code",
   "execution_count": null,
   "outputs": [],
   "source": [
    "def average_offices(df, office1, office2):\n",
    "    df = df.loc[df['office'] == office1]\n",
    "    df = df.loc[df['office'] == office2]\n",
    "\n"
   ],
   "metadata": {
    "collapsed": false
   }
  },
  {
   "cell_type": "markdown",
   "source": [
    "\n",
    "\n",
    "3 Load the mpg dataset and use it to answer the following questions:\n",
    "\n",
    "Is there a difference in fuel-efficiency in cars from 2008 vs 1999?\n",
    "Are compact cars more fuel-efficient than the average car?\n",
    "Do manual cars get better gas mileage than automatic cars?\n"
   ],
   "metadata": {
    "collapsed": false
   },
   "outputs": []
  },
  {
   "cell_type": "code",
   "execution_count": null,
   "outputs": [],
   "source": [
    "def load_mpg_data():\n",
    "    return pd.read_sql('SELECT * FROM mpg', get_db_url('mpg'))"
   ],
   "metadata": {
    "collapsed": false
   }
  },
  {
   "cell_type": "markdown",
   "source": [
    "\n",
    "\n",
    "\n",
    "-------------------------------------- Coorelation --------------------------------\n",
    "1 Answer with the type of stats test you would use (assume normal distribution):\n",
    "Is there a relationship between the length of your arm and the length of your foot?\n",
    "Do guys and gals quit their jobs at the same rate?\n",
    "Does the length of time of the lecture correlate with a students grade?\n"
   ],
   "metadata": {
    "collapsed": false
   },
   "outputs": []
  },
  {
   "cell_type": "code",
   "execution_count": null,
   "outputs": [],
   "source": [
    "length_arm  = x\n",
    "length_foot = y\n",
    "relationship = x/y\n",
    "\n",
    "men_quit_rate = x\n",
    "women_quit_rate = y\n",
    "relationship = x/y\n",
    "\n"
   ],
   "metadata": {
    "collapsed": false
   }
  },
  {
   "cell_type": "markdown",
   "source": [
    "\n",
    "\n",
    "\n",
    "2  Use the telco_churn data.\n",
    "Does tenure correlate with monthly charges?\n",
    "correlation\n",
    "\n",
    "Total charges?\n",
    "\n",
    "sum\n",
    "What happens if you control for phone and internet service?\n",
    "\n",
    "Compare\n",
    "\n",
    "\n",
    "3  Use the employees database.\n",
    "Is there a relationship between how long an employee has been with the company and their salary?\n",
    "\n",
    "compare and correlation\n",
    "\n",
    "Is there a relationship between how long an employee has been with the company and the number of titles they have had?\n",
    "\n",
    "compare and correlation\n",
    "\n",
    "4  Use the sleepstudy data.\n",
    "Is there a relationship between days and reaction time?\n",
    "\n",
    "\n",
    "compare and correlation\n",
    "\n",
    "-----CHI Square---------- -------------------------------\n",
    "\n",
    "\n",
    "\n",
    "1  Answer with the type of stats test you would use (assume normal distribution):\n",
    "\n",
    "Do students get better test grades if they have a rubber duck on their desk?\n",
    "\n",
    ": there is no association between being a codeup student and using a duck\n",
    "\n",
    ": there is a association between being a codeup student and using a duck\n",
    "\n",
    "Does smoking affect when or not someone has lung cancer?\n",
    "\n",
    ": there is no association between smoking and lung cancer and\n",
    "\n",
    ": there is a association between smoking and lung cancer\n",
    "\n",
    "Is gender independent of a person’s blood type?\n",
    "\n",
    "yes\n",
    "\n",
    "A farming company wants to know if a new fertilizer has improved crop yield or not\n",
    ": there is no association between fertilizer and crop yeild\n",
    ": there is an association between fertilizer and crop yeild\n",
    "\n",
    "Does the length of time of the lecture correlate with a students grade?\n",
    ": there is no association between time of the lecture correlate with a students grade\n",
    "\n",
    "Do people with dogs live in apartments more than people with cats?\n",
    "\n",
    ": there is no association between fertilizer and crop yeild\n",
    ": there is an association between fertilizer and crop yeild\n",
    "\n",
    "2  Use the following contingency table to help answer the question of whether using a macbook and being a codeup student are independent of each other.\n",
    "\n",
    " \tCodeup Student\tNot Codeup Student\n",
    "Uses a Macbook\t49\t20\n",
    "Doesn't Use A Macbook\t1\t30\n"
   ],
   "metadata": {
    "collapsed": false
   },
   "outputs": []
  },
  {
   "cell_type": "code",
   "execution_count": 1,
   "outputs": [
    {
     "data": {
      "text/plain": "[[49, 20], [1, 30]]"
     },
     "execution_count": 1,
     "metadata": {},
     "output_type": "execute_result"
    }
   ],
   "source": [
    "observed = [[49,20],[1,30]]\n",
    "observed\n"
   ],
   "metadata": {
    "collapsed": false
   }
  },
  {
   "cell_type": "code",
   "execution_count": 2,
   "outputs": [
    {
     "ename": "NameError",
     "evalue": "name 'pd' is not defined",
     "output_type": "error",
     "traceback": [
      "\u001B[0;31m---------------------------------------------------------------------------\u001B[0m",
      "\u001B[0;31mNameError\u001B[0m                                 Traceback (most recent call last)",
      "\u001B[0;32m/var/folders/vs/c0nlrqgj7w31_21lr5lnfrf40000gn/T/ipykernel_18128/2418249945.py\u001B[0m in \u001B[0;36m<module>\u001B[0;34m\u001B[0m\n\u001B[0;32m----> 1\u001B[0;31m \u001B[0mobserved\u001B[0m \u001B[0;34m=\u001B[0m \u001B[0mpd\u001B[0m\u001B[0;34m.\u001B[0m\u001B[0mDataFrame\u001B[0m\u001B[0;34m(\u001B[0m\u001B[0mobserved\u001B[0m\u001B[0;34m)\u001B[0m\u001B[0;34m\u001B[0m\u001B[0;34m\u001B[0m\u001B[0m\n\u001B[0m\u001B[1;32m      2\u001B[0m \u001B[0mobserved\u001B[0m\u001B[0;34m\u001B[0m\u001B[0;34m\u001B[0m\u001B[0m\n",
      "\u001B[0;31mNameError\u001B[0m: name 'pd' is not defined"
     ]
    }
   ],
   "source": [
    "observed = pd.DataFrame(observed)\n",
    "observed"
   ],
   "metadata": {
    "collapsed": false
   }
  },
  {
   "cell_type": "markdown",
   "source": [
    "\n",
    "\n",
    "3   Choose another 2 categorical variables from the mpg dataset and perform a\n",
    "c\n",
    "h\n",
    "i\n",
    "2\n",
    " contingency table test with them. Be sure to state your null and alternative hypotheses.\n",
    "\n",
    "\n",
    "chi2, p, degf, expected = stats.chi2_contingency(observed)\n",
    "\n",
    "if p < alpha:\n",
    "    print('We reject the null hypothesis')\n",
    "else:\n",
    "    print('We fail to reject the null hypothesis')\n",
    "\n",
    "4  Use the data from the employees database to answer these questions:\n",
    "url = env.get_db_url('employees')\n",
    "\n",
    "\n",
    "Is an employee's gender independent of whether an employee works in sales or marketing? (only look at current employees)\n",
    "\n",
    "query = '''\n",
    "        select emp_no, gender, dept_name\n",
    "        from employees\n",
    "            join dept_emp\n",
    "                using (emp_no)\n",
    "            join departments\n",
    "                using (dept_no)\n",
    "        where to_date = '9999-01-01'\n",
    "        and dept_name in ('Marketing','Sales')\n",
    "        '''\n",
    "\n",
    "\n",
    "Is an employee's gender independent of whether or not they are or have been a manager?\n",
    "df = pd.read_sql(query, url)\n",
    "df\n",
    "\n",
    "-------- More Examples --------------------------------\n",
    "\n",
    "1  Choose several continous and categorical variables that were not covered in the lesson and perform each type of test on them. You may use another data set if you wish.\n",
    "\n"
   ],
   "metadata": {
    "collapsed": false
   }
  },
  {
   "cell_type": "code",
   "execution_count": 4,
   "outputs": [
    {
     "ename": "NameError",
     "evalue": "name 'df' is not defined",
     "output_type": "error",
     "traceback": [
      "\u001B[0;31m---------------------------------------------------------------------------\u001B[0m",
      "\u001B[0;31mNameError\u001B[0m                                 Traceback (most recent call last)",
      "\u001B[0;32m/var/folders/vs/c0nlrqgj7w31_21lr5lnfrf40000gn/T/ipykernel_18128/3569835237.py\u001B[0m in \u001B[0;36m<module>\u001B[0;34m\u001B[0m\n\u001B[0;32m----> 1\u001B[0;31m \u001B[0mdf\u001B[0m\u001B[0;34m.\u001B[0m\u001B[0mgender\u001B[0m\u001B[0;34m.\u001B[0m\u001B[0mvalue_counts\u001B[0m\u001B[0;34m(\u001B[0m\u001B[0;34m)\u001B[0m\u001B[0;34m\u001B[0m\u001B[0;34m\u001B[0m\u001B[0m\n\u001B[0m",
      "\u001B[0;31mNameError\u001B[0m: name 'df' is not defined"
     ]
    }
   ],
   "source": [
    "df.gender.value_counts()"
   ],
   "metadata": {
    "collapsed": false
   }
  },
  {
   "cell_type": "code",
   "execution_count": 5,
   "outputs": [
    {
     "ename": "NameError",
     "evalue": "name 'df' is not defined",
     "output_type": "error",
     "traceback": [
      "\u001B[0;31m---------------------------------------------------------------------------\u001B[0m",
      "\u001B[0;31mNameError\u001B[0m                                 Traceback (most recent call last)",
      "\u001B[0;32m/var/folders/vs/c0nlrqgj7w31_21lr5lnfrf40000gn/T/ipykernel_18128/1499438246.py\u001B[0m in \u001B[0;36m<module>\u001B[0;34m\u001B[0m\n\u001B[0;32m----> 1\u001B[0;31m \u001B[0mdf\u001B[0m\u001B[0;34m.\u001B[0m\u001B[0mdept_name\u001B[0m\u001B[0;34m.\u001B[0m\u001B[0mvalue_counts\u001B[0m\u001B[0;34m(\u001B[0m\u001B[0;34m)\u001B[0m\u001B[0;34m\u001B[0m\u001B[0;34m\u001B[0m\u001B[0m\n\u001B[0m",
      "\u001B[0;31mNameError\u001B[0m: name 'df' is not defined"
     ]
    }
   ],
   "source": [
    "df.dept_name.value_counts()\n"
   ],
   "metadata": {
    "collapsed": false
   }
  },
  {
   "cell_type": "code",
   "execution_count": 6,
   "outputs": [
    {
     "ename": "NameError",
     "evalue": "name 'df' is not defined",
     "output_type": "error",
     "traceback": [
      "\u001B[0;31m---------------------------------------------------------------------------\u001B[0m",
      "\u001B[0;31mNameError\u001B[0m                                 Traceback (most recent call last)",
      "\u001B[0;32m/var/folders/vs/c0nlrqgj7w31_21lr5lnfrf40000gn/T/ipykernel_18128/3899344649.py\u001B[0m in \u001B[0;36m<module>\u001B[0;34m\u001B[0m\n\u001B[0;32m----> 1\u001B[0;31m \u001B[0mobserved\u001B[0m \u001B[0;34m=\u001B[0m \u001B[0mpd\u001B[0m\u001B[0;34m.\u001B[0m\u001B[0mcrosstab\u001B[0m\u001B[0;34m(\u001B[0m\u001B[0mdf\u001B[0m\u001B[0;34m.\u001B[0m\u001B[0mgender\u001B[0m\u001B[0;34m,\u001B[0m \u001B[0mdf\u001B[0m\u001B[0;34m.\u001B[0m\u001B[0mdept_name\u001B[0m\u001B[0;34m)\u001B[0m\u001B[0;34m\u001B[0m\u001B[0;34m\u001B[0m\u001B[0m\n\u001B[0m\u001B[1;32m      2\u001B[0m \u001B[0mobserved\u001B[0m\u001B[0;34m\u001B[0m\u001B[0;34m\u001B[0m\u001B[0m\n",
      "\u001B[0;31mNameError\u001B[0m: name 'df' is not defined"
     ]
    }
   ],
   "source": [
    "observed = pd.crosstab(df.gender, df.dept_name)\n",
    "observed"
   ],
   "metadata": {
    "collapsed": false
   }
  },
  {
   "cell_type": "code",
   "execution_count": 7,
   "outputs": [],
   "source": [
    "chi2, p, degf, expected = stats.chi2_contingency(observed)"
   ],
   "metadata": {
    "collapsed": false
   }
  },
  {
   "cell_type": "code",
   "execution_count": 8,
   "outputs": [
    {
     "name": "stdout",
     "output_type": "stream",
     "text": [
      "Observed\n"
     ]
    },
    {
     "ename": "AttributeError",
     "evalue": "'list' object has no attribute 'values'",
     "output_type": "error",
     "traceback": [
      "\u001B[0;31m---------------------------------------------------------------------------\u001B[0m",
      "\u001B[0;31mAttributeError\u001B[0m                            Traceback (most recent call last)",
      "\u001B[0;32m/var/folders/vs/c0nlrqgj7w31_21lr5lnfrf40000gn/T/ipykernel_18128/3399389233.py\u001B[0m in \u001B[0;36m<module>\u001B[0;34m\u001B[0m\n\u001B[1;32m      1\u001B[0m \u001B[0mprint\u001B[0m\u001B[0;34m(\u001B[0m\u001B[0;34m'Observed'\u001B[0m\u001B[0;34m)\u001B[0m\u001B[0;34m\u001B[0m\u001B[0;34m\u001B[0m\u001B[0m\n\u001B[0;32m----> 2\u001B[0;31m \u001B[0mprint\u001B[0m\u001B[0;34m(\u001B[0m\u001B[0mobserved\u001B[0m\u001B[0;34m.\u001B[0m\u001B[0mvalues\u001B[0m\u001B[0;34m)\u001B[0m\u001B[0;34m\u001B[0m\u001B[0;34m\u001B[0m\u001B[0m\n\u001B[0m\u001B[1;32m      3\u001B[0m \u001B[0mprint\u001B[0m\u001B[0;34m(\u001B[0m\u001B[0;34m'\\nExpected'\u001B[0m\u001B[0;34m)\u001B[0m\u001B[0;34m\u001B[0m\u001B[0;34m\u001B[0m\u001B[0m\n\u001B[1;32m      4\u001B[0m \u001B[0mprint\u001B[0m\u001B[0;34m(\u001B[0m\u001B[0mexpected\u001B[0m\u001B[0;34m.\u001B[0m\u001B[0mastype\u001B[0m\u001B[0;34m(\u001B[0m\u001B[0mint\u001B[0m\u001B[0;34m)\u001B[0m\u001B[0;34m)\u001B[0m\u001B[0;34m\u001B[0m\u001B[0;34m\u001B[0m\u001B[0m\n\u001B[1;32m      5\u001B[0m \u001B[0mprint\u001B[0m\u001B[0;34m(\u001B[0m\u001B[0;34m'\\n----'\u001B[0m\u001B[0;34m)\u001B[0m\u001B[0;34m\u001B[0m\u001B[0;34m\u001B[0m\u001B[0m\n",
      "\u001B[0;31mAttributeError\u001B[0m: 'list' object has no attribute 'values'"
     ]
    }
   ],
   "source": [
    "print('Observed')\n",
    "print(observed.values)\n",
    "print('\\nExpected')\n",
    "print(expected.astype(int))\n",
    "print('\\n----')\n",
    "print(f'chi^2 = {chi2:.4f}')\n",
    "print(f'p     = {p:.4f}')"
   ],
   "metadata": {
    "collapsed": false
   }
  },
  {
   "cell_type": "code",
   "execution_count": 9,
   "outputs": [
    {
     "ename": "NameError",
     "evalue": "name 'alpha' is not defined",
     "output_type": "error",
     "traceback": [
      "\u001B[0;31m---------------------------------------------------------------------------\u001B[0m",
      "\u001B[0;31mNameError\u001B[0m                                 Traceback (most recent call last)",
      "\u001B[0;32m/var/folders/vs/c0nlrqgj7w31_21lr5lnfrf40000gn/T/ipykernel_18128/2509864121.py\u001B[0m in \u001B[0;36m<module>\u001B[0;34m\u001B[0m\n\u001B[0;32m----> 1\u001B[0;31m \u001B[0;32mif\u001B[0m \u001B[0mp\u001B[0m \u001B[0;34m<\u001B[0m \u001B[0malpha\u001B[0m\u001B[0;34m:\u001B[0m\u001B[0;34m\u001B[0m\u001B[0;34m\u001B[0m\u001B[0m\n\u001B[0m\u001B[1;32m      2\u001B[0m     \u001B[0mprint\u001B[0m\u001B[0;34m(\u001B[0m\u001B[0;34m'We reject the null hypothesis'\u001B[0m\u001B[0;34m)\u001B[0m\u001B[0;34m\u001B[0m\u001B[0;34m\u001B[0m\u001B[0m\n\u001B[1;32m      3\u001B[0m \u001B[0;32melse\u001B[0m\u001B[0;34m:\u001B[0m\u001B[0;34m\u001B[0m\u001B[0;34m\u001B[0m\u001B[0m\n\u001B[1;32m      4\u001B[0m     \u001B[0mprint\u001B[0m\u001B[0;34m(\u001B[0m\u001B[0;34m'We fail to reject the null hypothesis'\u001B[0m\u001B[0;34m)\u001B[0m\u001B[0;34m\u001B[0m\u001B[0;34m\u001B[0m\u001B[0m\n",
      "\u001B[0;31mNameError\u001B[0m: name 'alpha' is not defined"
     ]
    }
   ],
   "source": [
    "if p < alpha:\n",
    "    print('We reject the null hypothesis')\n",
    "else:\n",
    "    print('We fail to reject the null hypothesis')\n"
   ],
   "metadata": {
    "collapsed": false
   }
  },
  {
   "cell_type": "code",
   "execution_count": 10,
   "outputs": [
    {
     "ename": "SyntaxError",
     "evalue": "EOF while scanning triple-quoted string literal (257714523.py, line 5)",
     "output_type": "error",
     "traceback": [
      "\u001B[0;36m  File \u001B[0;32m\"/var/folders/vs/c0nlrqgj7w31_21lr5lnfrf40000gn/T/ipykernel_18128/257714523.py\"\u001B[0;36m, line \u001B[0;32m5\u001B[0m\n\u001B[0;31m    using (emp_no)\u001B[0m\n\u001B[0m                  \n^\u001B[0m\n\u001B[0;31mSyntaxError\u001B[0m\u001B[0;31m:\u001B[0m EOF while scanning triple-quoted string literal\n"
     ]
    }
   ],
   "source": [
    "query = '''\n",
    "        select emp_no, gender, dept_no\n",
    "        from employees\n",
    "            left join dept_manager\n",
    "                using (emp_no)"
   ],
   "metadata": {
    "collapsed": false
   }
  },
  {
   "cell_type": "code",
   "execution_count": 11,
   "outputs": [
    {
     "ename": "NameError",
     "evalue": "name 'query' is not defined",
     "output_type": "error",
     "traceback": [
      "\u001B[0;31m---------------------------------------------------------------------------\u001B[0m",
      "\u001B[0;31mNameError\u001B[0m                                 Traceback (most recent call last)",
      "\u001B[0;32m/var/folders/vs/c0nlrqgj7w31_21lr5lnfrf40000gn/T/ipykernel_18128/1672404041.py\u001B[0m in \u001B[0;36m<module>\u001B[0;34m\u001B[0m\n\u001B[0;32m----> 1\u001B[0;31m \u001B[0mdf\u001B[0m \u001B[0;34m=\u001B[0m \u001B[0mpd\u001B[0m\u001B[0;34m.\u001B[0m\u001B[0mread_sql\u001B[0m\u001B[0;34m(\u001B[0m\u001B[0mquery\u001B[0m\u001B[0;34m,\u001B[0m \u001B[0murl\u001B[0m\u001B[0;34m)\u001B[0m\u001B[0;34m\u001B[0m\u001B[0;34m\u001B[0m\u001B[0m\n\u001B[0m\u001B[1;32m      2\u001B[0m \u001B[0mdf\u001B[0m\u001B[0;34m\u001B[0m\u001B[0;34m\u001B[0m\u001B[0m\n",
      "\u001B[0;31mNameError\u001B[0m: name 'query' is not defined"
     ]
    }
   ],
   "source": [
    "df = pd.read_sql(query, url)\n",
    "df"
   ],
   "metadata": {
    "collapsed": false
   }
  },
  {
   "cell_type": "code",
   "execution_count": 12,
   "outputs": [
    {
     "ename": "NameError",
     "evalue": "name 'df' is not defined",
     "output_type": "error",
     "traceback": [
      "\u001B[0;31m---------------------------------------------------------------------------\u001B[0m",
      "\u001B[0;31mNameError\u001B[0m                                 Traceback (most recent call last)",
      "\u001B[0;32m/var/folders/vs/c0nlrqgj7w31_21lr5lnfrf40000gn/T/ipykernel_18128/3771845804.py\u001B[0m in \u001B[0;36m<module>\u001B[0;34m\u001B[0m\n\u001B[0;32m----> 1\u001B[0;31m \u001B[0mdf\u001B[0m\u001B[0;34m.\u001B[0m\u001B[0minfo\u001B[0m\u001B[0;34m(\u001B[0m\u001B[0;34m)\u001B[0m\u001B[0;34m\u001B[0m\u001B[0;34m\u001B[0m\u001B[0m\n\u001B[0m",
      "\u001B[0;31mNameError\u001B[0m: name 'df' is not defined"
     ]
    }
   ],
   "source": [
    "df.info()"
   ],
   "metadata": {
    "collapsed": false
   }
  },
  {
   "cell_type": "code",
   "execution_count": 13,
   "outputs": [
    {
     "ename": "NameError",
     "evalue": "name 'df' is not defined",
     "output_type": "error",
     "traceback": [
      "\u001B[0;31m---------------------------------------------------------------------------\u001B[0m",
      "\u001B[0;31mNameError\u001B[0m                                 Traceback (most recent call last)",
      "\u001B[0;32m/var/folders/vs/c0nlrqgj7w31_21lr5lnfrf40000gn/T/ipykernel_18128/4074295013.py\u001B[0m in \u001B[0;36m<module>\u001B[0;34m\u001B[0m\n\u001B[0;32m----> 1\u001B[0;31m \u001B[0mdf\u001B[0m\u001B[0;34m.\u001B[0m\u001B[0mdept_no\u001B[0m\u001B[0;34m.\u001B[0m\u001B[0mvalue_counts\u001B[0m\u001B[0;34m(\u001B[0m\u001B[0mdropna\u001B[0m\u001B[0;34m=\u001B[0m\u001B[0;32mFalse\u001B[0m\u001B[0;34m)\u001B[0m\u001B[0;34m\u001B[0m\u001B[0;34m\u001B[0m\u001B[0m\n\u001B[0m",
      "\u001B[0;31mNameError\u001B[0m: name 'df' is not defined"
     ]
    }
   ],
   "source": [
    "df.dept_no.value_counts(dropna=False)"
   ],
   "metadata": {
    "collapsed": false
   }
  },
  {
   "cell_type": "code",
   "execution_count": 14,
   "outputs": [
    {
     "ename": "NameError",
     "evalue": "name 'df' is not defined",
     "output_type": "error",
     "traceback": [
      "\u001B[0;31m---------------------------------------------------------------------------\u001B[0m",
      "\u001B[0;31mNameError\u001B[0m                                 Traceback (most recent call last)",
      "\u001B[0;32m/var/folders/vs/c0nlrqgj7w31_21lr5lnfrf40000gn/T/ipykernel_18128/2522499504.py\u001B[0m in \u001B[0;36m<module>\u001B[0;34m\u001B[0m\n\u001B[0;32m----> 1\u001B[0;31m \u001B[0mdf\u001B[0m\u001B[0;34m.\u001B[0m\u001B[0mdept_no\u001B[0m \u001B[0;34m=\u001B[0m \u001B[0mdf\u001B[0m\u001B[0;34m.\u001B[0m\u001B[0mdept_no\u001B[0m\u001B[0;34m.\u001B[0m\u001B[0mfillna\u001B[0m\u001B[0;34m(\u001B[0m\u001B[0;34m'not manager'\u001B[0m\u001B[0;34m)\u001B[0m\u001B[0;34m\u001B[0m\u001B[0;34m\u001B[0m\u001B[0m\n\u001B[0m",
      "\u001B[0;31mNameError\u001B[0m: name 'df' is not defined"
     ]
    }
   ],
   "source": [
    "df.dept_no = df.dept_no.fillna('not manager')"
   ],
   "metadata": {
    "collapsed": false
   }
  },
  {
   "cell_type": "code",
   "execution_count": 15,
   "outputs": [
    {
     "ename": "NameError",
     "evalue": "name 'df' is not defined",
     "output_type": "error",
     "traceback": [
      "\u001B[0;31m---------------------------------------------------------------------------\u001B[0m",
      "\u001B[0;31mNameError\u001B[0m                                 Traceback (most recent call last)",
      "\u001B[0;32m/var/folders/vs/c0nlrqgj7w31_21lr5lnfrf40000gn/T/ipykernel_18128/3027928680.py\u001B[0m in \u001B[0;36m<module>\u001B[0;34m\u001B[0m\n\u001B[0;32m----> 1\u001B[0;31m df.dept_no = np.where( df.dept_no != 'not manager',\n\u001B[0m\u001B[1;32m      2\u001B[0m                       'manager', 'not manager')\n",
      "\u001B[0;31mNameError\u001B[0m: name 'df' is not defined"
     ]
    }
   ],
   "source": [
    "df.dept_no = np.where( df.dept_no != 'not manager',\n",
    "                      'manager', 'not manager')"
   ],
   "metadata": {
    "collapsed": false
   }
  },
  {
   "cell_type": "code",
   "execution_count": 16,
   "outputs": [
    {
     "ename": "NameError",
     "evalue": "name 'df' is not defined",
     "output_type": "error",
     "traceback": [
      "\u001B[0;31m---------------------------------------------------------------------------\u001B[0m",
      "\u001B[0;31mNameError\u001B[0m                                 Traceback (most recent call last)",
      "\u001B[0;32m/var/folders/vs/c0nlrqgj7w31_21lr5lnfrf40000gn/T/ipykernel_18128/3686275183.py\u001B[0m in \u001B[0;36m<module>\u001B[0;34m\u001B[0m\n\u001B[0;32m----> 1\u001B[0;31m \u001B[0mdf\u001B[0m\u001B[0;34m.\u001B[0m\u001B[0mdept_no\u001B[0m\u001B[0;34m.\u001B[0m\u001B[0mvalue_counts\u001B[0m\u001B[0;34m(\u001B[0m\u001B[0;34m)\u001B[0m\u001B[0;34m\u001B[0m\u001B[0;34m\u001B[0m\u001B[0m\n\u001B[0m",
      "\u001B[0;31mNameError\u001B[0m: name 'df' is not defined"
     ]
    }
   ],
   "source": [
    "df.dept_no.value_counts()\n"
   ],
   "metadata": {
    "collapsed": false
   }
  },
  {
   "cell_type": "code",
   "execution_count": 17,
   "outputs": [
    {
     "ename": "NameError",
     "evalue": "name 'df' is not defined",
     "output_type": "error",
     "traceback": [
      "\u001B[0;31m---------------------------------------------------------------------------\u001B[0m",
      "\u001B[0;31mNameError\u001B[0m                                 Traceback (most recent call last)",
      "\u001B[0;32m/var/folders/vs/c0nlrqgj7w31_21lr5lnfrf40000gn/T/ipykernel_18128/3841216803.py\u001B[0m in \u001B[0;36m<module>\u001B[0;34m\u001B[0m\n\u001B[0;32m----> 1\u001B[0;31m \u001B[0mobserved\u001B[0m \u001B[0;34m=\u001B[0m \u001B[0mpd\u001B[0m\u001B[0;34m.\u001B[0m\u001B[0mcrosstab\u001B[0m\u001B[0;34m(\u001B[0m\u001B[0mdf\u001B[0m\u001B[0;34m.\u001B[0m\u001B[0mgender\u001B[0m\u001B[0;34m,\u001B[0m \u001B[0mdf\u001B[0m\u001B[0;34m.\u001B[0m\u001B[0mdept_no\u001B[0m\u001B[0;34m)\u001B[0m\u001B[0;34m\u001B[0m\u001B[0;34m\u001B[0m\u001B[0m\n\u001B[0m\u001B[1;32m      2\u001B[0m \u001B[0mobserved\u001B[0m\u001B[0;34m\u001B[0m\u001B[0;34m\u001B[0m\u001B[0m\n",
      "\u001B[0;31mNameError\u001B[0m: name 'df' is not defined"
     ]
    }
   ],
   "source": [
    "observed = pd.crosstab(df.gender, df.dept_no)\n",
    "observed"
   ],
   "metadata": {
    "collapsed": false
   }
  },
  {
   "cell_type": "code",
   "execution_count": 18,
   "outputs": [],
   "source": [
    "chi2, p, degf, expected = stats.chi2_contingency(observed)"
   ],
   "metadata": {
    "collapsed": false
   }
  },
  {
   "cell_type": "code",
   "execution_count": 19,
   "outputs": [
    {
     "ename": "SyntaxError",
     "evalue": "invalid syntax (26263548.py, line 2)",
     "output_type": "error",
     "traceback": [
      "\u001B[0;36m  File \u001B[0;32m\"/var/folders/vs/c0nlrqgj7w31_21lr5lnfrf40000gn/T/ipykernel_18128/26263548.py\"\u001B[0;36m, line \u001B[0;32m2\u001B[0m\n\u001B[0;31m    else:\u001B[0m\n\u001B[0m    ^\u001B[0m\n\u001B[0;31mSyntaxError\u001B[0m\u001B[0;31m:\u001B[0m invalid syntax\n"
     ]
    }
   ],
   "source": [
    "    print('We reject the null hypothesis')\n",
    "else:\n",
    "    print(\"we fail to reject the null hypothesis\")"
   ],
   "metadata": {
    "collapsed": false
   }
  },
  {
   "cell_type": "code",
   "execution_count": null,
   "outputs": [],
   "source": [],
   "metadata": {
    "collapsed": false
   }
  }
 ],
 "metadata": {
  "kernelspec": {
   "display_name": "Python 3",
   "language": "python",
   "name": "python3"
  },
  "language_info": {
   "codemirror_mode": {
    "name": "ipython",
    "version": 2
   },
   "file_extension": ".py",
   "mimetype": "text/x-python",
   "name": "python",
   "nbconvert_exporter": "python",
   "pygments_lexer": "ipython2",
   "version": "2.7.6"
  }
 },
 "nbformat": 4,
 "nbformat_minor": 0
}
