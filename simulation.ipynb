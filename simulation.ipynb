{
 "cells": [
  {
   "cell_type": "code",
   "execution_count": 2,
   "metadata": {
    "collapsed": true
   },
   "outputs": [],
   "source": [
    "import numpy as np\n",
    "import pandas as pd\n",
    "import matplotlib.pyplot as plt\n",
    "%config InlineBackend.figure_format = 'retina'\n",
    "import viz # curriculum example visualizations\n",
    "\n",
    "np.random.seed(29)"
   ]
  },
  {
   "cell_type": "markdown",
   "source": [
    "We stil have three other commonly used random functions that we haven't practiced yet:\n",
    "- `np.random.uniform`: generates numbers between a given lower and upper bound\n",
    "- `np.random.randn`: generates numbers from the standard normal distribution\n",
    "- `np.random.normal`: generates numbers from a normal distribution with a specified mean and standard deviation\n",
    "\n",
    "Take some time to review the documentation of each, then start working on the exercises:\n",
    "\n",
    "# Simulation Exercises\n",
    "\n",
    "Using the repo setup directions, setup a new local and remote repository named `statistics-exercises`. The local version of your repo should live inside of `~/codeup-data-science`. This repo should be named `statistics-exercises`.\n",
    "\n",
    "Do your work for this exercise in either a python file named `simulation.py` or a jupyter notebook named `simulation.ipynb`.\n",
    "\n",
    "1. How likely is it that you roll doubles when rolling two dice?\n",
    "\n",
    "\n"
   ],
   "metadata": {
    "collapsed": false
   },
   "outputs": []
  },
  {
   "cell_type": "code",
   "execution_count": 7,
   "outputs": [],
   "source": [
    "import numpy as np\n",
    "from collections import Counter\n",
    "from itertools import *\n",
    "\n",
    "die_n = 2\n",
    "max_num = 6\n",
    "\n",
    "die = np.arange(1,max_num+1)\n",
    "C0,C1  = Counter(), Counter()\n",
    "\n",
    "for roll in product(die,repeat=die_n):\n",
    "    if len(set(roll)) > 1: C0[sum(roll)] += 1\n",
    "    else: C1[sum(roll)] += 1"
   ],
   "metadata": {
    "collapsed": false
   }
  },
  {
   "cell_type": "markdown",
   "source": [],
   "metadata": {
    "collapsed": false
   },
   "outputs": []
  },
  {
   "cell_type": "markdown",
   "source": [
    "\n",
    "\n",
    "2. If you flip 8 coins, what is the probability of getting exactly 3 heads? What is the probability of getting more than 3 heads?\n",
    "\n",
    "\n",
    "3. There are approximately 3 web development cohorts for every 1 data science cohort at Codeup. Assuming that Codeup randomly selects an alumni to put on a billboard, what are the odds that the two billboards I drive past both have data science students on them?\n",
    "\n",
    "\n",
    "4. Codeup students buy, on average, 3 poptart packages with a standard deviation of 1.5 a day from the snack vending machine. If on monday the machine is restocked with 17 poptart packages, how likely is it that I will be able to buy some poptarts on Friday afternoon? (Remember, if you have mean and standard deviation, use the np.random.normal) You'll need to make a judgement call on how to handle some of your values.\n",
    "\n",
    "\n",
    "5. Compare Heights\n",
    "\n",
    "- Men have an average height of 178 cm and standard deviation of 8cm.\n",
    "- Women have a mean of 170, sd = 6cm.\n",
    "- Since you have means and standard deviations, you can use `np.random.normal` to generate observations.\n",
    "- If a man and woman are chosen at random, what is the likelihood the woman is taller than the man?\n",
    "\n",
    "6. When installing anaconda on a student's computer, there's a 1 in 250 chance that the download is corrupted and the installation fails.\n",
    "- What are the odds that after having 50 students download anaconda, no one has an installation issue? 100 students?\n",
    "- What is the probability that we observe an installation issue within the first 150 students that download anaconda?\n",
    "- How likely is it that 450 students all download anaconda without an issue?\n",
    "\n",
    "7. There's a 70% chance on any given day that there will be at least one food truck at Travis Park.\n",
    "- However, you haven't seen a food truck there in 3 days. How unlikely is this?\n",
    "- How likely is it that a food truck will show up sometime this week?\n",
    "\n",
    "8. If 23 people are in the same room, what are the odds that two of them share a birthday? What if it's 20 people? 40 people?\n",
    "\n",
    "Be sure to add, commit, and push your work. Additional bonus exercises are available on the curriculum website.\n"
   ],
   "metadata": {
    "collapsed": false
   }
  },
  {
   "cell_type": "code",
   "execution_count": 8,
   "outputs": [],
   "source": [
    "import numpy as np\n",
    "from collections import Counter\n",
    "from itertools import *\n",
    "\n",
    "die_n = 2\n",
    "max_num = 6\n",
    "\n",
    "die = np.arange(1,max_num+1)\n",
    "C0,C1  = Counter(), Counter()\n",
    "\n",
    "for roll in product(die,repeat=die_n):\n",
    "    if len(set(roll)) > 1: C0[sum(roll)] += 1\n",
    "    else: C1[sum(roll)] += 1"
   ],
   "metadata": {
    "collapsed": false
   }
  },
  {
   "cell_type": "code",
   "execution_count": 9,
   "outputs": [
    {
     "data": {
      "text/plain": "0.749813"
     },
     "execution_count": 9,
     "metadata": {},
     "output_type": "execute_result"
    }
   ],
   "source": [
    "billboard = np.random.choice(['web', 'data'], p = [0.75, 0.25], size = 1000000)\n",
    "(billboard == 'web').mean()"
   ],
   "metadata": {
    "collapsed": false
   }
  },
  {
   "cell_type": "code",
   "execution_count": 11,
   "outputs": [
    {
     "data": {
      "text/plain": "0.250187"
     },
     "execution_count": 11,
     "metadata": {},
     "output_type": "execute_result"
    }
   ],
   "source": [
    "data_billboard = (billboard == 'data').mean()\n",
    "data_billboard"
   ],
   "metadata": {
    "collapsed": false
   }
  },
  {
   "cell_type": "code",
   "execution_count": null,
   "outputs": [],
   "source": [],
   "metadata": {
    "collapsed": false
   }
  }
 ],
 "metadata": {
  "kernelspec": {
   "display_name": "Python 3",
   "language": "python",
   "name": "python3"
  },
  "language_info": {
   "codemirror_mode": {
    "name": "ipython",
    "version": 2
   },
   "file_extension": ".py",
   "mimetype": "text/x-python",
   "name": "python",
   "nbconvert_exporter": "python",
   "pygments_lexer": "ipython2",
   "version": "2.7.6"
  }
 },
 "nbformat": 4,
 "nbformat_minor": 0
}
